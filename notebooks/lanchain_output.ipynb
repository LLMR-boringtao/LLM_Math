{
 "cells": [
  {
   "cell_type": "code",
   "execution_count": 3,
   "metadata": {},
   "outputs": [],
   "source": [
    "from langchain.chat_models import ChatOpenAI\n",
    "from langchain.prompts import ChatPromptTemplate\n",
    "from langchain.output_parsers import ResponseSchema\n",
    "from langchain.output_parsers import StructuredOutputParser"
   ]
  },
  {
   "cell_type": "code",
   "execution_count": 4,
   "metadata": {},
   "outputs": [],
   "source": [
    "llm_model = \"gpt-3.5-turbo\"\n",
    "chat = ChatOpenAI(temperature=0.0, model=llm_model)"
   ]
  },
  {
   "cell_type": "code",
   "execution_count": 6,
   "metadata": {},
   "outputs": [],
   "source": [
    "# question = \"\"\"Classes A and B start from the school at the same time to go to a park that is 51 km away. Class A walks at a speed of 4 km/h, and Class B walks at a speed of 5 km/h. The school has a car that can travel at 60 km/h and can carry one class of students at a time. To ensure that both classes arrive at the park in the shortest time possible, how many kilometres do Classes A and B need to walk?\"\"\"\n",
    "\n",
    "# # APE (Automatic Prompt Engineer)\n",
    "# method = \"\"\"\n",
    "# Take a deep breath.\n",
    "# Let's work this out in a step-by-step way to be sure we have the right answer.\n",
    "# \"\"\"\n",
    "\n",
    "# prompt = f\"\"\"Solve the question that is delimited by triple backticks by {method}.\n",
    "# question: ```{question}```\n",
    "# \"\"\"\n",
    "\n",
    "# prompt_template = ChatPromptTemplate.from_template(prompt)\n",
    "# solution = prompt_template.format_messages(\n",
    "#                     method=method,\n",
    "#                     question=question)\n",
    "\n",
    "# response = chat(solution)\n",
    "# print(response.content)"
   ]
  },
  {
   "cell_type": "code",
   "execution_count": 14,
   "metadata": {},
   "outputs": [],
   "source": [
    "solution = f\"\"\"\n",
    "To solve this question, we need to find the optimal distance that Classes A and B should walk in order to minimize the total time taken for both classes to reach the park.\n",
    "\n",
    "Let's start by calculating the time it takes for Class A to walk the entire distance of 51 km. We can use the formula: time = distance / speed.\n",
    "\n",
    "For Class A:\n",
    "Time taken = 51 km / 4 km/h = 12.75 hours\n",
    "\n",
    "Now, let's calculate the time it takes for Class B to walk the entire distance of 51 km.\n",
    "For Class B:\n",
    "Time taken = 51 km / 5 km/h = 10.2 hours\n",
    "\n",
    "Since the car can carry only one class at a time, we need to find a way to minimize the total time taken for both classes.\n",
    "\n",
    "One way to do this is to calculate the time it takes for the car to travel the entire distance of 51 km, drop off one class, and then go back to pick up the other class.\n",
    "\n",
    "For the car:\n",
    "Time taken = (51 km / 60 km/h) + (51 km / 60 km/h) = 1.7 hours + 1.7 hours = 3.4 hours\n",
    "\n",
    "Now, let's calculate the time it takes for Class A to walk a certain distance, while the car carries Class B.\n",
    "\n",
    "Let's assume Class A walks x km before the car picks up Class B. In this case, Class A will walk the remaining distance of (51 - x) km.\n",
    "\n",
    "Time taken for Class A = (51 - x) km / 4 km/h = (51 - x) / 4 hours\n",
    "\n",
    "Since the car takes 3.4 hours to complete the round trip, the time taken for Class B to walk the remaining distance of x km is:\n",
    "\n",
    "Time taken for Class B = x km / 5 km/h = x / 5 hours\n",
    "\n",
    "To minimize the total time, we need to find the value of x that minimizes the sum of the times for both classes.\n",
    "\n",
    "Total time = (51 - x) / 4 + x / 5 + 3.4\n",
    "\n",
    "To find the value of x that minimizes the total time, we can take the derivative of the total time with respect to x and set it equal to zero.\n",
    "\n",
    "d(Total time) / dx = -1/4 + 1/5 = 0\n",
    "\n",
    "Simplifying the equation, we get:\n",
    "\n",
    "-5/20 + 4/20 = 0\n",
    "\n",
    "-1/20 = 0\n",
    "\n",
    "This equation has no solution, which means that the total time is not minimized by having Class A walk a certain distance while the car carries Class B.\n",
    "\n",
    "Therefore, the optimal solution is for both classes to walk the entire distance of 51 km.\n",
    "\n",
    "So, Classes A and B need to walk 51 km each.\n",
    "\"\"\""
   ]
  },
  {
   "cell_type": "code",
   "execution_count": 15,
   "metadata": {},
   "outputs": [],
   "source": [
    "variable_schema = ResponseSchema(name=\"variable\",\n",
    "                             description=\"variable that needs to be sovled by the solution.\")\n",
    "\n",
    "value_schema = ResponseSchema(name=\"value\",\n",
    "                             description=\"value of the variable that the solution provides.\")\n",
    "\n",
    "response_schemas = [variable_schema, \n",
    "                    value_schema]"
   ]
  },
  {
   "cell_type": "code",
   "execution_count": 16,
   "metadata": {},
   "outputs": [
    {
     "name": "stdout",
     "output_type": "stream",
     "text": [
      "The output should be a markdown code snippet formatted in the following schema, including the leading and trailing \"```json\" and \"```\":\n",
      "\n",
      "```json\n",
      "{\n",
      "\t\"variable\": string  // variable that needs to be sovled by the solution.\n",
      "\t\"value\": string  // value of the variable that the solution provides.\n",
      "}\n",
      "```\n"
     ]
    }
   ],
   "source": [
    "output_parser = StructuredOutputParser.from_response_schemas(response_schemas)\n",
    "format_instructions = output_parser.get_format_instructions()\n",
    "print(format_instructions)"
   ]
  },
  {
   "cell_type": "code",
   "execution_count": 17,
   "metadata": {},
   "outputs": [],
   "source": [
    "answer_template = \"\"\"\\\n",
    "For the following solution, extract the following information:\n",
    "\n",
    "variable: variable that needs to be sovled by the solution \\\n",
    "\n",
    "value: value of the variable that the solution provides \\\n",
    "\n",
    "solution: {solution}\n",
    "\n",
    "{format_instructions}\n",
    "\"\"\""
   ]
  },
  {
   "cell_type": "code",
   "execution_count": 18,
   "metadata": {},
   "outputs": [],
   "source": [
    "prompt = ChatPromptTemplate.from_template(template=answer_template)\n",
    "messages = prompt.format_messages(solution=solution, \n",
    "                                format_instructions=format_instructions)"
   ]
  },
  {
   "cell_type": "code",
   "execution_count": 19,
   "metadata": {},
   "outputs": [
    {
     "name": "stdout",
     "output_type": "stream",
     "text": [
      "For the following solution, extract the following information:\n",
      "\n",
      "variable: variable that needs to be sovled by the solution \n",
      "value: value of the variable that the solution provides \n",
      "solution: \n",
      "To solve this question, we need to find the optimal distance that Classes A and B should walk in order to minimize the total time taken for both classes to reach the park.\n",
      "\n",
      "Let's start by calculating the time it takes for Class A to walk the entire distance of 51 km. We can use the formula: time = distance / speed.\n",
      "\n",
      "For Class A:\n",
      "Time taken = 51 km / 4 km/h = 12.75 hours\n",
      "\n",
      "Now, let's calculate the time it takes for Class B to walk the entire distance of 51 km.\n",
      "For Class B:\n",
      "Time taken = 51 km / 5 km/h = 10.2 hours\n",
      "\n",
      "Since the car can carry only one class at a time, we need to find a way to minimize the total time taken for both classes.\n",
      "\n",
      "One way to do this is to calculate the time it takes for the car to travel the entire distance of 51 km, drop off one class, and then go back to pick up the other class.\n",
      "\n",
      "For the car:\n",
      "Time taken = (51 km / 60 km/h) + (51 km / 60 km/h) = 1.7 hours + 1.7 hours = 3.4 hours\n",
      "\n",
      "Now, let's calculate the time it takes for Class A to walk a certain distance, while the car carries Class B.\n",
      "\n",
      "Let's assume Class A walks x km before the car picks up Class B. In this case, Class A will walk the remaining distance of (51 - x) km.\n",
      "\n",
      "Time taken for Class A = (51 - x) km / 4 km/h = (51 - x) / 4 hours\n",
      "\n",
      "Since the car takes 3.4 hours to complete the round trip, the time taken for Class B to walk the remaining distance of x km is:\n",
      "\n",
      "Time taken for Class B = x km / 5 km/h = x / 5 hours\n",
      "\n",
      "To minimize the total time, we need to find the value of x that minimizes the sum of the times for both classes.\n",
      "\n",
      "Total time = (51 - x) / 4 + x / 5 + 3.4\n",
      "\n",
      "To find the value of x that minimizes the total time, we can take the derivative of the total time with respect to x and set it equal to zero.\n",
      "\n",
      "d(Total time) / dx = -1/4 + 1/5 = 0\n",
      "\n",
      "Simplifying the equation, we get:\n",
      "\n",
      "-5/20 + 4/20 = 0\n",
      "\n",
      "-1/20 = 0\n",
      "\n",
      "This equation has no solution, which means that the total time is not minimized by having Class A walk a certain distance while the car carries Class B.\n",
      "\n",
      "Therefore, the optimal solution is for both classes to walk the entire distance of 51 km.\n",
      "\n",
      "So, Classes A and B need to walk 51 km each.\n",
      "\n",
      "\n",
      "The output should be a markdown code snippet formatted in the following schema, including the leading and trailing \"```json\" and \"```\":\n",
      "\n",
      "```json\n",
      "{\n",
      "\t\"variable\": string  // variable that needs to be sovled by the solution.\n",
      "\t\"value\": string  // value of the variable that the solution provides.\n",
      "}\n",
      "```\n",
      "\n"
     ]
    }
   ],
   "source": [
    "print(messages[0].content)"
   ]
  },
  {
   "cell_type": "code",
   "execution_count": 20,
   "metadata": {},
   "outputs": [],
   "source": [
    "response = chat(messages)"
   ]
  },
  {
   "cell_type": "code",
   "execution_count": 21,
   "metadata": {},
   "outputs": [
    {
     "name": "stdout",
     "output_type": "stream",
     "text": [
      "```json\n",
      "{\n",
      "\t\"variable\": \"x\",\n",
      "\t\"value\": \"51\"\n",
      "}\n",
      "```\n"
     ]
    }
   ],
   "source": [
    "print(response.content)"
   ]
  },
  {
   "cell_type": "code",
   "execution_count": 22,
   "metadata": {},
   "outputs": [],
   "source": [
    "output_dict = output_parser.parse(response.content)"
   ]
  },
  {
   "cell_type": "code",
   "execution_count": 23,
   "metadata": {},
   "outputs": [
    {
     "data": {
      "text/plain": [
       "{'variable': 'x', 'value': '51'}"
      ]
     },
     "execution_count": 23,
     "metadata": {},
     "output_type": "execute_result"
    }
   ],
   "source": [
    "output_dict"
   ]
  },
  {
   "cell_type": "code",
   "execution_count": 25,
   "metadata": {},
   "outputs": [
    {
     "data": {
      "text/plain": [
       "'51'"
      ]
     },
     "execution_count": 25,
     "metadata": {},
     "output_type": "execute_result"
    }
   ],
   "source": [
    "output_dict.get('value')"
   ]
  }
 ],
 "metadata": {
  "kernelspec": {
   "display_name": "gpt",
   "language": "python",
   "name": "python3"
  },
  "language_info": {
   "codemirror_mode": {
    "name": "ipython",
    "version": 3
   },
   "file_extension": ".py",
   "mimetype": "text/x-python",
   "name": "python",
   "nbconvert_exporter": "python",
   "pygments_lexer": "ipython3",
   "version": "3.9.17"
  },
  "orig_nbformat": 4
 },
 "nbformat": 4,
 "nbformat_minor": 2
}
