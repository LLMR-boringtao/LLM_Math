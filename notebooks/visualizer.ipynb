{
 "cells": [
  {
   "cell_type": "code",
   "execution_count": 2,
   "metadata": {},
   "outputs": [],
   "source": [
    "from langchain_visualizer.jupyter import visualize\n",
    "from langchain.agents import initialize_agent, load_tools\n",
    "from langchain.llms import OpenAI"
   ]
  },
  {
   "cell_type": "code",
   "execution_count": 2,
   "metadata": {},
   "outputs": [
    {
     "name": "stdout",
     "output_type": "stream",
     "text": [
      "2023-09-13 14:37.21.822380 [info     ] Trace: http://127.0.0.1:8935/traces/01HA7C5FCVF4MBC1RWYGYQ9N5K\n",
      "\n",
      "\n",
      "\u001b[1m> Entering new AgentExecutor chain...\u001b[0m\n",
      "2023-09-13 14:37.22.496149 [info     ] Starting server, set OUGHT_ICE_AUTO_SERVER=0 to disable.\n",
      "\u001b[32;1m\u001b[1;3m I need to find out who Olivia Wilde's boyfriend is and then calculate his age raised to the 0.23 power.\n",
      "Action: Search\n",
      "Action Input: \"Olivia Wilde boyfriend\"\u001b[0m\n",
      "Observation: \u001b[36;1m\u001b[1;3m[\"Looks like Olivia Wilde and Jason Sudeikis are starting 2023 on good terms. Amid their highly publicized custody battle – and the actress' ...\"]\u001b[0m\n",
      "Thought:2023-09-13 14:37.26.149352 [info     ] Server started! Run `python -m ice.server stop` to stop it.\n",
      "Rendering http://127.0.0.1:8935/traces/01HA7C5FCVF4MBC1RWYGYQ9N5K in notebook\n"
     ]
    },
    {
     "data": {
      "text/html": [
       "\n",
       "        <iframe\n",
       "            width=\"1000\"\n",
       "            height=\"500\"\n",
       "            src=\"http://127.0.0.1:8935/traces/01HA7C5FCVF4MBC1RWYGYQ9N5K\"\n",
       "            frameborder=\"0\"\n",
       "            allowfullscreen\n",
       "            \n",
       "        ></iframe>\n",
       "        "
      ],
      "text/plain": [
       "<IPython.lib.display.IFrame at 0x7f2d84774580>"
      ]
     },
     "execution_count": 2,
     "metadata": {},
     "output_type": "execute_result"
    },
    {
     "name": "stdout",
     "output_type": "stream",
     "text": [
      "\u001b[32;1m\u001b[1;3m I need to find out Jason Sudeikis' age.\n",
      "Action: Search\n",
      "Action Input: \"Jason Sudeikis age\"\u001b[0m\n",
      "Observation: \u001b[36;1m\u001b[1;3m47 years\u001b[0m\n",
      "Thought:\u001b[32;1m\u001b[1;3m I need to calculate 47 raised to the 0.23 power.\n",
      "Action: Calculator\n",
      "Action Input: 47^0.23\u001b[0m\n",
      "Observation: \u001b[33;1m\u001b[1;3mAnswer: 2.4242784855673896\u001b[0m\n",
      "Thought:\u001b[32;1m\u001b[1;3m I now know the final answer.\n",
      "Final Answer: Jason Sudeikis, Olivia Wilde's boyfriend, is 47 years old and his age raised to the 0.23 power is 2.4242784855673896.\u001b[0m\n",
      "\n",
      "\u001b[1m> Finished chain.\u001b[0m\n",
      "Jason Sudeikis, Olivia Wilde's boyfriend, is \u001b[1;36m47\u001b[0m years old and his age raised to the \u001b[1;36m0.23\u001b[0m power is \u001b[1;36m2.4242784855673896\u001b[0m.\n"
     ]
    }
   ],
   "source": [
    "async def search_agent():\n",
    "    llm = OpenAI(temperature=0)\n",
    "    tools = load_tools([\"serpapi\", \"llm-math\"], llm=llm)\n",
    "    agent = initialize_agent(\n",
    "        tools, llm, agent=\"zero-shot-react-description\", verbose=True\n",
    "    )\n",
    "    return agent.run(\n",
    "        \"Who is Olivia Wilde's boyfriend? What is his current age raised to the 0.23 \"\n",
    "        \"power?\"\n",
    "    )\n",
    "\n",
    "visualize(search_agent)"
   ]
  }
 ],
 "metadata": {
  "kernelspec": {
   "display_name": "gpt",
   "language": "python",
   "name": "python3"
  },
  "language_info": {
   "codemirror_mode": {
    "name": "ipython",
    "version": 3
   },
   "file_extension": ".py",
   "mimetype": "text/x-python",
   "name": "python",
   "nbconvert_exporter": "python",
   "pygments_lexer": "ipython3",
   "version": "3.9.17"
  },
  "orig_nbformat": 4
 },
 "nbformat": 4,
 "nbformat_minor": 2
}
