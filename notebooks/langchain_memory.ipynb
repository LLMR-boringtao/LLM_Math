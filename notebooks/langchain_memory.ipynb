{
 "cells": [
  {
   "cell_type": "code",
   "execution_count": 6,
   "metadata": {},
   "outputs": [],
   "source": [
    "from langchain.chat_models import ChatOpenAI\n",
    "from langchain.prompts import ChatPromptTemplate\n",
    "from langchain.output_parsers import ResponseSchema\n",
    "from langchain.output_parsers import StructuredOutputParser\n",
    "from langchain.chains import ConversationChain\n",
    "from langchain.memory import ConversationBufferMemory\n",
    "from langchain.memory import ConversationBufferWindowMemory\n",
    "from langchain.memory import ConversationSummaryBufferMemory"
   ]
  },
  {
   "cell_type": "code",
   "execution_count": null,
   "metadata": {},
   "outputs": [],
   "source": [
    "llm_model = \"gpt-3.5-turbo\"\n",
    "llm = ChatOpenAI(temperature=0.0, model=llm_model)\n",
    "memory = ConversationSummaryBufferMemory(llm=llm, max_token_limit=100)"
   ]
  },
  {
   "cell_type": "code",
   "execution_count": 43,
   "metadata": {},
   "outputs": [],
   "source": [
    "from langchain.prompts.prompt import PromptTemplate\n",
    "\n",
    "template = \"\"\"The following is a maths discussion between a human and an AI. The AI is analytic and provides lots of specific details from its context. If the AI does not know the answer to a question, it truthfully says it does not know.\n",
    "\n",
    "Current conversation:\n",
    "{history}\n",
    "Student: {input}\n",
    "Teacher:\"\"\"\n",
    "PROMPT = PromptTemplate(input_variables=[\"history\", \"input\"], template=template)\n",
    "conversation = ConversationChain(\n",
    "    prompt=PROMPT,\n",
    "    llm=llm,\n",
    "    verbose=True,\n",
    "    memory=memory\n",
    ")\n"
   ]
  },
  {
   "cell_type": "code",
   "execution_count": 36,
   "metadata": {},
   "outputs": [],
   "source": [
    "question = f\"\"\"\n",
    "Classes A and B start from the school at the same time to go to a park that is 51 km away. Class A walks at a speed of 4 km/h, and Class B walks at a speed of 5 km/h. The school has a car that can travel at 60 km/h and can carry one class of students at a time. To ensure that both classes arrive at the park in the shortest time possible, how many kilometres do Classes A and B need to walk?\n",
    "\"\"\""
   ]
  },
  {
   "cell_type": "code",
   "execution_count": 37,
   "metadata": {},
   "outputs": [],
   "source": [
    "solution = f\"\"\"\n",
    "To solve this question, we need to find the optimal distance that Classes A and B should walk in order to minimize the total time taken for both classes to reach the park.\n",
    "\n",
    "Let's start by calculating the time it takes for Class A to walk the entire distance of 51 km. We can use the formula: time = distance / speed.\n",
    "\n",
    "For Class A:\n",
    "Time taken = 51 km / 4 km/h = 12.75 hours\n",
    "\n",
    "Now, let's calculate the time it takes for Class B to walk the entire distance of 51 km.\n",
    "For Class B:\n",
    "Time taken = 51 km / 5 km/h = 10.2 hours\n",
    "\n",
    "\n",
    "One way to do this is to calculate the time it takes for the car to travel the entire distance of 51 km, drSince the car can carry only one class at a time, we need to find a way to minimize the total time taken for both classes.\n",
    "op off one class, and then go back to pick up the other class.\n",
    "\n",
    "For the car:\n",
    "Time taken = (51 km / 60 km/h) + (51 km / 60 km/h) = 1.7 hours + 1.7 hours = 3.4 hours\n",
    "\n",
    "Now, let's calculate the time it takes for Class A to walk a certain distance, while the car carries Class B.\n",
    "\n",
    "Let's assume Class A walks x km before the car picks up Class B. In this case, Class A will walk the remaining distance of (51 - x) km.\n",
    "\n",
    "Time taken for Class A = (51 - x) km / 4 km/h = (51 - x) / 4 hours\n",
    "\n",
    "Since the car takes 3.4 hours to complete the round trip, the time taken for Class B to walk the remaining distance of x km is:\n",
    "\n",
    "Time taken for Class B = x km / 5 km/h = x / 5 hours\n",
    "\n",
    "To minimize the total time, we need to find the value of x that minimizes the sum of the times for both classes.\n",
    "\n",
    "Total time = (51 - x) / 4 + x / 5 + 3.4\n",
    "\n",
    "To find the value of x that minimizes the total time, we can take the derivative of the total time with respect to x and set it equal to zero.\n",
    "\n",
    "d(Total time) / dx = -1/4 + 1/5 = 0\n",
    "\n",
    "Simplifying the equation, we get:\n",
    "\n",
    "-5/20 + 4/20 = 0\n",
    "\n",
    "-1/20 = 0\n",
    "\n",
    "This equation has no solution, which means that the total time is not minimized by having Class A walk a certain distance while the car carries Class B.\n",
    "\n",
    "Therefore, the optimal solution is for both classes to walk the entire distance of 51 km.\n",
    "\n",
    "So, Classes A and B need to walk 51 km each.\n",
    "\"\"\""
   ]
  },
  {
   "cell_type": "code",
   "execution_count": 40,
   "metadata": {},
   "outputs": [],
   "source": [
    "from langchain.prompts.prompt import PromptTemplate\n",
    "\n",
    "template = \"\"\"The following is a maths discussion between a human and an AI. The AI is analytic and provides lots of specific details from its context. If the AI does not know the answer to a question, it truthfully says it does not know.\n",
    "\n",
    "Current conversation:\n",
    "{history}\n",
    "Student: {input}\n",
    "Teacher:\"\"\"\n",
    "PROMPT = PromptTemplate(input_variables=[\"history\", \"input\"], template=template)\n",
    "conversation = ConversationChain(\n",
    "    prompt=PROMPT,\n",
    "    llm=llm,\n",
    "    verbose=True\n",
    ")"
   ]
  },
  {
   "cell_type": "code",
   "execution_count": 50,
   "metadata": {},
   "outputs": [],
   "source": [
    "memory=ConversationBufferMemory(human_prefix=\"Student: \", ai_prefix=\"Teacher:\")\n",
    "memory.save_context({\"input\": \"Hello, I am a maths student\"}, {\"output\": \"Hello, I am your maths teacher\"})\n",
    "memory.save_context({\"input\": \"I am having trouble with this question\"}, {\"output\": \"What is the question?\"})\n",
    "memory.save_context({\"input\": f\"{question}\"}, {\"output\": f\"{solution}\"})"
   ]
  },
  {
   "cell_type": "code",
   "execution_count": 53,
   "metadata": {},
   "outputs": [
    {
     "name": "stdout",
     "output_type": "stream",
     "text": [
      "\n",
      "\n",
      "\u001b[1m> Entering new ConversationChain chain...\u001b[0m\n",
      "Prompt after formatting:\n",
      "\u001b[32;1m\u001b[1;3mThe following is a maths discussion between a human and an AI. The AI is analytic and provides lots of specific details from its context. If the AI does not know the answer to a question, it truthfully says it does not know.\n",
      "\n",
      "Current conversation:\n",
      "Student: : Hello, I am a maths student\n",
      "Teacher:: Hello, I am your maths teacher\n",
      "Student: : \n",
      "Classes A and B start from the school at the same time to go to a park that is 51 km away. Class A walks at a speed of 4 km/h, and Class B walks at a speed of 5 km/h. The school has a car that can travel at 60 km/h and can carry one class of students at a time. To ensure that both classes arrive at the park in the shortest time possible, how many kilometres do Classes A and B need to walk?\n",
      "\n",
      "Teacher:: \n",
      "To solve this question, we need to find the optimal distance that Classes A and B should walk in order to minimize the total time taken for both classes to reach the park.\n",
      "\n",
      "Let's start by calculating the time it takes for Class A to walk the entire distance of 51 km. We can use the formula: time = distance / speed.\n",
      "\n",
      "For Class A:\n",
      "Time taken = 51 km / 4 km/h = 12.75 hours\n",
      "\n",
      "Now, let's calculate the time it takes for Class B to walk the entire distance of 51 km.\n",
      "For Class B:\n",
      "Time taken = 51 km / 5 km/h = 10.2 hours\n",
      "\n",
      "\n",
      "One way to do this is to calculate the time it takes for the car to travel the entire distance of 51 km, drSince the car can carry only one class at a time, we need to find a way to minimize the total time taken for both classes.\n",
      "op off one class, and then go back to pick up the other class.\n",
      "\n",
      "For the car:\n",
      "Time taken = (51 km / 60 km/h) + (51 km / 60 km/h) = 1.7 hours + 1.7 hours = 3.4 hours\n",
      "\n",
      "Now, let's calculate the time it takes for Class A to walk a certain distance, while the car carries Class B.\n",
      "\n",
      "Let's assume Class A walks x km before the car picks up Class B. In this case, Class A will walk the remaining distance of (51 - x) km.\n",
      "\n",
      "Time taken for Class A = (51 - x) km / 4 km/h = (51 - x) / 4 hours\n",
      "\n",
      "Since the car takes 3.4 hours to complete the round trip, the time taken for Class B to walk the remaining distance of x km is:\n",
      "\n",
      "Time taken for Class B = x km / 5 km/h = x / 5 hours\n",
      "\n",
      "To minimize the total time, we need to find the value of x that minimizes the sum of the times for both classes.\n",
      "\n",
      "Total time = (51 - x) / 4 + x / 5 + 3.4\n",
      "\n",
      "To find the value of x that minimizes the total time, we can take the derivative of the total time with respect to x and set it equal to zero.\n",
      "\n",
      "d(Total time) / dx = -1/4 + 1/5 = 0\n",
      "\n",
      "Simplifying the equation, we get:\n",
      "\n",
      "-5/20 + 4/20 = 0\n",
      "\n",
      "-1/20 = 0\n",
      "\n",
      "This equation has no solution, which means that the total time is not minimized by having Class A walk a certain distance while the car carries Class B.\n",
      "\n",
      "Therefore, the optimal solution is for both classes to walk the entire distance of 51 km.\n",
      "\n",
      "So, Classes A and B need to walk 51 km each.\n",
      "\n",
      "Student: : can I ask a maths question?\n",
      "Teacher:: Of course! Please go ahead and ask your math question.\n",
      "Student: : do you think there is an alternative answer?\n",
      "Teacher:: It is possible that there could be alternative answers or approaches to a math question. However, in the specific scenario we discussed earlier, the optimal solution is for both classes to walk the entire distance of 51 km. If you have a different question or scenario in mind, please let me know and I'll do my best to help you.\n",
      "Student: : can I explain a bit more?\n",
      "Teacher:: Of course! Please go ahead and explain your question or scenario in more detail. I'm here to help.\n",
      "Student: : can you explain a bit more?\n",
      "Teacher:: Certainly! Please provide more details or specific information about the math question or scenario you would like me to explain, and I'll do my best to help you understand it.\n",
      "Student: can you explain a bit more about the solution you provide?\n",
      "Teacher:\u001b[0m\n",
      "\n",
      "\u001b[1m> Finished chain.\u001b[0m\n"
     ]
    },
    {
     "data": {
      "text/plain": [
       "'Certainly! In the solution I provided earlier, we were trying to find the optimal distance that Classes A and B should walk in order to minimize the total time taken for both classes to reach the park.\\n\\nWe started by calculating the time it takes for Class A to walk the entire distance of 51 km. We used the formula time = distance / speed to find that Class A would take 12.75 hours to walk the entire distance.\\n\\nNext, we calculated the time it takes for Class B to walk the entire distance of 51 km using the same formula. We found that Class B would take 10.2 hours to walk the entire distance.\\n\\nThen, we considered the option of using the car to transport one class at a time. We calculated the time it takes for the car to travel the entire distance of 51 km, drop off one class, and then go back to pick up the other class. We found that the car would take 3.4 hours for the round trip.\\n\\nAfter that, we explored the possibility of having Class A walk a certain distance while the car carries Class B. We assumed that Class A walks x km before the car picks up Class B, and Class A would walk the remaining distance of (51 - x) km. We calculated the time taken for Class A and Class B in this scenario.\\n\\nTo minimize the total time, we needed to find the value of x that minimizes the sum of the times for both classes. We took the derivative of the total time with respect to x and set it equal to zero. However, we found that the equation had no solution, indicating that the total time is not minimized by having Class A walk a certain distance while the car carries Class B.\\n\\nTherefore, the optimal solution is for both classes to walk the entire distance of 51 km.\\n\\nI hope this explanation helps clarify the solution I provided earlier. If you have any further questions or need more clarification, please let me know!'"
      ]
     },
     "execution_count": 53,
     "metadata": {},
     "output_type": "execute_result"
    }
   ],
   "source": [
    "conversation.predict(input=\"can you explain a bit more about the solution you provide?\")"
   ]
  },
  {
   "cell_type": "code",
   "execution_count": 54,
   "metadata": {},
   "outputs": [
    {
     "data": {
      "text/plain": [
       "{'history': \"Student: : Hello, I am a maths student\\nTeacher:: Hello, I am your maths teacher\\nStudent: : I am having trouble with this question\\nTeacher:: What is the question?\\nStudent: : \\nClasses A and B start from the school at the same time to go to a park that is 51 km away. Class A walks at a speed of 4 km/h, and Class B walks at a speed of 5 km/h. The school has a car that can travel at 60 km/h and can carry one class of students at a time. To ensure that both classes arrive at the park in the shortest time possible, how many kilometres do Classes A and B need to walk?\\n\\nTeacher:: \\nTo solve this question, we need to find the optimal distance that Classes A and B should walk in order to minimize the total time taken for both classes to reach the park.\\n\\nLet's start by calculating the time it takes for Class A to walk the entire distance of 51 km. We can use the formula: time = distance / speed.\\n\\nFor Class A:\\nTime taken = 51 km / 4 km/h = 12.75 hours\\n\\nNow, let's calculate the time it takes for Class B to walk the entire distance of 51 km.\\nFor Class B:\\nTime taken = 51 km / 5 km/h = 10.2 hours\\n\\n\\nOne way to do this is to calculate the time it takes for the car to travel the entire distance of 51 km, drSince the car can carry only one class at a time, we need to find a way to minimize the total time taken for both classes.\\nop off one class, and then go back to pick up the other class.\\n\\nFor the car:\\nTime taken = (51 km / 60 km/h) + (51 km / 60 km/h) = 1.7 hours + 1.7 hours = 3.4 hours\\n\\nNow, let's calculate the time it takes for Class A to walk a certain distance, while the car carries Class B.\\n\\nLet's assume Class A walks x km before the car picks up Class B. In this case, Class A will walk the remaining distance of (51 - x) km.\\n\\nTime taken for Class A = (51 - x) km / 4 km/h = (51 - x) / 4 hours\\n\\nSince the car takes 3.4 hours to complete the round trip, the time taken for Class B to walk the remaining distance of x km is:\\n\\nTime taken for Class B = x km / 5 km/h = x / 5 hours\\n\\nTo minimize the total time, we need to find the value of x that minimizes the sum of the times for both classes.\\n\\nTotal time = (51 - x) / 4 + x / 5 + 3.4\\n\\nTo find the value of x that minimizes the total time, we can take the derivative of the total time with respect to x and set it equal to zero.\\n\\nd(Total time) / dx = -1/4 + 1/5 = 0\\n\\nSimplifying the equation, we get:\\n\\n-5/20 + 4/20 = 0\\n\\n-1/20 = 0\\n\\nThis equation has no solution, which means that the total time is not minimized by having Class A walk a certain distance while the car carries Class B.\\n\\nTherefore, the optimal solution is for both classes to walk the entire distance of 51 km.\\n\\nSo, Classes A and B need to walk 51 km each.\\n\"}"
      ]
     },
     "execution_count": 54,
     "metadata": {},
     "output_type": "execute_result"
    }
   ],
   "source": [
    "memory.load_memory_variables({})"
   ]
  }
 ],
 "metadata": {
  "kernelspec": {
   "display_name": "gpt",
   "language": "python",
   "name": "python3"
  },
  "language_info": {
   "codemirror_mode": {
    "name": "ipython",
    "version": 3
   },
   "file_extension": ".py",
   "mimetype": "text/x-python",
   "name": "python",
   "nbconvert_exporter": "python",
   "pygments_lexer": "ipython3",
   "version": "3.9.17"
  },
  "orig_nbformat": 4
 },
 "nbformat": 4,
 "nbformat_minor": 2
}
