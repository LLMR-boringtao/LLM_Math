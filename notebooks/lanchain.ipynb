{
 "cells": [
  {
   "cell_type": "code",
   "execution_count": 3,
   "metadata": {},
   "outputs": [],
   "source": [
    "from langchain.chat_models import ChatOpenAI\n",
    "from langchain.prompts import ChatPromptTemplate"
   ]
  },
  {
   "cell_type": "code",
   "execution_count": 2,
   "metadata": {},
   "outputs": [],
   "source": [
    "llm_model = \"gpt-3.5-turbo\"\n",
    "chat = ChatOpenAI(temperature=0.0, model=llm_model)"
   ]
  },
  {
   "cell_type": "code",
   "execution_count": 15,
   "metadata": {},
   "outputs": [],
   "source": [
    "question = \"\"\"Classes A and B start from the school at the same time to go to a park that is 51 km away. Class A walks at a speed of 4 km/h, and Class B walks at a speed of 5 km/h. The school has a car that can travel at 60 km/h and can carry one class of students at a time. To ensure that both classes arrive at the park in the shortest time possible, how many kilometres do Classes A and B need to walk?\"\"\"\n",
    "\n",
    "# APE (Automatic Prompt Engineer)\n",
    "method = \"\"\"\n",
    "Take a deep breath.\n",
    "Let's work this out in a step-by-step way to be sure we have the right answer.\n",
    "\"\"\"\n",
    "\n",
    "prompt = f\"\"\"Solve the question that is delimited by triple backticks by {method}.\n",
    "question: ```{question}```\n",
    "\"\"\""
   ]
  },
  {
   "cell_type": "code",
   "execution_count": 11,
   "metadata": {},
   "outputs": [],
   "source": [
    "prompt_template = ChatPromptTemplate.from_template(prompt)\n",
    "messages = prompt_template.format_messages(\n",
    "                    method=method,\n",
    "                    question=question)"
   ]
  },
  {
   "cell_type": "code",
   "execution_count": 13,
   "metadata": {},
   "outputs": [],
   "source": [
    "response = chat(messages)\n",
    "print(response.content)"
   ]
  },
  {
   "cell_type": "code",
   "execution_count": 16,
   "metadata": {},
   "outputs": [],
   "source": [
    "# Role play\n",
    "method_role = \"\"\"\n",
    "Take a deep breath.\n",
    "Let's work this out in a step-by-step way to be sure we have the right answer.\n",
    "\n",
    "You are an experienced maths teacher. \n",
    "You are good at solving descriptive maths problems by converting them into mathematical equations. \n",
    "You always solve the problems step by step. \n",
    "\"\"\""
   ]
  },
  {
   "cell_type": "code",
   "execution_count": 17,
   "metadata": {},
   "outputs": [],
   "source": [
    "messages = prompt_template.format_messages(\n",
    "                    method=method_role,\n",
    "                    question=question)"
   ]
  },
  {
   "cell_type": "code",
   "execution_count": 18,
   "metadata": {},
   "outputs": [
    {
     "name": "stdout",
     "output_type": "stream",
     "text": [
      "To solve this question, we need to find the optimal distance that Classes A and B should walk in order to minimize the total time taken for both classes to reach the park.\n",
      "\n",
      "Let's start by calculating the time it takes for Class A to walk the entire distance of 51 km. We can use the formula: time = distance / speed.\n",
      "\n",
      "For Class A:\n",
      "Time taken = 51 km / 4 km/h = 12.75 hours\n",
      "\n",
      "Now, let's calculate the time it takes for Class B to walk the entire distance of 51 km.\n",
      "For Class B:\n",
      "Time taken = 51 km / 5 km/h = 10.2 hours\n",
      "\n",
      "Since the car can carry only one class at a time, we need to find a way to minimize the total time taken for both classes.\n",
      "\n",
      "One way to do this is to calculate the time it takes for the car to travel the entire distance of 51 km, drop off one class, and then go back to pick up the other class.\n",
      "\n",
      "For the car:\n",
      "Time taken = (51 km / 60 km/h) + (51 km / 60 km/h) = 1.7 hours + 1.7 hours = 3.4 hours\n",
      "\n",
      "Now, let's calculate the time it takes for Class A to walk a certain distance, while the car carries Class B.\n",
      "\n",
      "Let's assume Class A walks x km before the car picks up Class B. In this case, Class A will need to walk (51 - x) km after the car drops off Class B.\n",
      "\n",
      "Time taken for Class A = (x km / 4 km/h) + ((51 - x) km / 4 km/h) = (x + (51 - x)) / 4 = 51 / 4 = 12.75 hours\n",
      "\n",
      "Since we want to minimize the total time taken, we need to find the value of x that minimizes the time taken for Class A.\n",
      "\n",
      "To find this value, we can set up an equation:\n",
      "\n",
      "12.75 hours = 3.4 hours + (x km / 4 km/h) + ((51 - x) km / 5 km/h)\n",
      "\n",
      "Simplifying the equation:\n",
      "\n",
      "12.75 hours - 3.4 hours = (x / 4) + ((51 - x) / 5)\n",
      "\n",
      "9.35 hours = (5x + 4(51 - x)) / 20\n",
      "\n",
      "9.35 hours = (5x + 204 - 4x) / 20\n",
      "\n",
      "9.35 hours = (x + 204) / 20\n",
      "\n",
      "9.35 hours * 20 = x + 204\n",
      "\n",
      "187 hours = x + 204\n",
      "\n",
      "x = 187 - 204\n",
      "\n",
      "x = -17\n",
      "\n",
      "Since distance cannot be negative, we can conclude that Class A should not walk any distance before the car picks up Class B.\n",
      "\n",
      "Therefore, Class A needs to walk the entire distance of 51 km, and Class B does not need to walk at all.\n",
      "\n",
      "In conclusion, Class A needs to walk 51 km, and Class B does not need to walk.\n"
     ]
    }
   ],
   "source": [
    "response = chat(messages)\n",
    "print(response.content)"
   ]
  },
  {
   "cell_type": "code",
   "execution_count": 20,
   "metadata": {},
   "outputs": [],
   "source": [
    "# Few shot\n",
    "method_few_shot = \"\"\"\n",
    "Take a deep breath.\n",
    "Let's work this out in a step-by-step way to be sure we have the right answer.\n",
    "\n",
    "You are an experienced maths teacher. \n",
    "You are good at solving descriptive maths problems by converting them into mathematical equations. \n",
    "You always solve the problems step by step by follwoing the below examples.\n",
    "\n",
    "Example 1:\n",
    "Question:\n",
    "Classes A and B start from the school at the same time to go to a park that is 51 km away. Class A walks at a speed of 4 km/h, and Class B walks at a speed of 5 km/h. The school has a car that can travel at 60 km/h and can carry one class of students at a time. To ensure that both classes arrive at the park in the shortest time possible, how many kilometres do Classes A and B need to walk?\n",
    "Answer:\n",
    "Let Class A walk X km. Then the time Class A takes to walk is X/4 hours. In this time, the car travels 15X km.\n",
    "The car takes Class B to the point where they should start walking and then returns to meet Class A. The distance the car travels to take Class B is (15X+X)=8X. Therefore, Class B walks 51−8X km, and the time Class B takes to walk is 51−8X hours. \n",
    "In this time, the car travels (51−8X)×12 km. At this point, the car needs to pick up Class A and return to the park.\n",
    "\n",
    "By solving the equation (51−8X)×12+(51−8X) +X=51, we get X=5.5 and 51−8X=7. Therefore, Class A walks 5.5 km, and Class B walks 7 km.\n",
    "\n",
    "Example 2:\n",
    "Question:\n",
    "A company organises a social event. 50% of the sales department participates, and 60% of the IT department participates. The number of people from the IT department who participate is 6 more than the number from the sales department. Later, due to urgent work, 60% of the remaining people in the sales department and 50% of the remaining people in the IT department are selected to form a 30-person work team. How many employees does the company have?\n",
    "Answer:\n",
    "Let the sales department have X people and the IT department have Y people. Then the number of people participating from the sales department is 0.5X and from the IT department is 0.6Y. The IT department has 6 more people participating than the sales department, so 0.6Y−0.5X=6.\n",
    "The number of people participating from the sales department is 0.5X, so the remaining number is also 0.5X. 60% of the remaining people are selected, which is 0.3X. The number of people participating from the IT department is 0.6Y, so the remaining number is 0.4Y. 50% of the remaining people are selected, which is 0.2Y. Therefore, 0.3X+0.2Y=30.\n",
    "\n",
    "By solving the equation 0.6Y−0.5X=6 and 0.3X+0.2Y=30 to find X=60 and Y=60. Therefore, the total number of employees in the company is 120.\n",
    "\n",
    "\"\"\""
   ]
  },
  {
   "cell_type": "code",
   "execution_count": 21,
   "metadata": {},
   "outputs": [],
   "source": [
    "messages = prompt_template.format_messages(\n",
    "                    method=method_few_shot,\n",
    "                    question=question)"
   ]
  },
  {
   "cell_type": "code",
   "execution_count": 22,
   "metadata": {},
   "outputs": [
    {
     "name": "stdout",
     "output_type": "stream",
     "text": [
      "To solve this question, we need to find the optimal distance that Classes A and B should walk in order to minimize the total time taken for both classes to reach the park.\n",
      "\n",
      "Let's start by calculating the time it takes for Class A to walk the entire distance of 51 km. We can use the formula: time = distance / speed.\n",
      "\n",
      "For Class A:\n",
      "Time taken = 51 km / 4 km/h = 12.75 hours\n",
      "\n",
      "Now, let's calculate the time it takes for Class B to walk the entire distance of 51 km.\n",
      "For Class B:\n",
      "Time taken = 51 km / 5 km/h = 10.2 hours\n",
      "\n",
      "Since the car can carry only one class at a time, we need to find a way to minimize the total time taken for both classes.\n",
      "\n",
      "Let's consider the scenario where the car picks up Class A first and drops them off at the park, and then goes back to pick up Class B.\n",
      "\n",
      "Time taken for the car to travel from the school to the park = distance / speed = 51 km / 60 km/h = 0.85 hours\n",
      "\n",
      "Time taken for the car to travel back to the school = distance / speed = 51 km / 60 km/h = 0.85 hours\n",
      "\n",
      "So, the total time taken for the car to pick up and drop off Class A is 0.85 + 0.85 = 1.7 hours.\n",
      "\n",
      "Now, let's calculate the remaining distance that Class B needs to walk after being dropped off by the car.\n",
      "\n",
      "Remaining distance for Class B = Total distance - Distance covered by the car = 51 km - 51 km = 0 km\n",
      "\n",
      "Since Class B has already reached the park, they don't need to walk any further.\n",
      "\n",
      "Therefore, the total distance that Classes A and B need to walk is 51 km - 0 km = 51 km.\n",
      "\n",
      "So, Classes A and B need to walk a total of 51 kilometers to ensure that both classes arrive at the park in the shortest time possible.\n"
     ]
    }
   ],
   "source": [
    "response = chat(messages)\n",
    "print(response.content)"
   ]
  }
 ],
 "metadata": {
  "kernelspec": {
   "display_name": "gpt",
   "language": "python",
   "name": "python3"
  },
  "language_info": {
   "codemirror_mode": {
    "name": "ipython",
    "version": 3
   },
   "file_extension": ".py",
   "mimetype": "text/x-python",
   "name": "python",
   "nbconvert_exporter": "python",
   "pygments_lexer": "ipython3",
   "version": "3.9.17"
  },
  "orig_nbformat": 4
 },
 "nbformat": 4,
 "nbformat_minor": 2
}
