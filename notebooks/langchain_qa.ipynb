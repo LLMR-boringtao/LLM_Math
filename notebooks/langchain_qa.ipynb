{
 "cells": [
  {
   "cell_type": "code",
   "execution_count": 58,
   "metadata": {},
   "outputs": [],
   "source": [
    "from langchain.chat_models import ChatOpenAI\n",
    "from langchain.prompts import ChatPromptTemplate\n",
    "from langchain.output_parsers import ResponseSchema\n",
    "from langchain.output_parsers import StructuredOutputParser\n",
    "from langchain.chains import ConversationChain\n",
    "from langchain.memory import ConversationBufferMemory\n",
    "from langchain.memory import ConversationBufferWindowMemory\n",
    "from langchain.memory import ConversationSummaryBufferMemory\n",
    "from langchain.chains import LLMChain\n",
    "from langchain.chains import SimpleSequentialChain\n",
    "from langchain.chains.router import MultiPromptChain\n",
    "from langchain.chains.router.llm_router import LLMRouterChain,RouterOutputParser\n",
    "from langchain.prompts import PromptTemplate\n",
    "from langchain.chains import RetrievalQA\n",
    "from langchain.chat_models import ChatOpenAI\n",
    "from langchain.document_loaders import CSVLoader\n",
    "from langchain.vectorstores import DocArrayInMemorySearch\n",
    "from langchain.document_loaders import JSONLoader\n",
    "from langchain.indexes import VectorstoreIndexCreator\n",
    "from langchain.embeddings import OpenAIEmbeddings"
   ]
  },
  {
   "cell_type": "code",
   "execution_count": 4,
   "metadata": {},
   "outputs": [],
   "source": [
    "from IPython.display import display, Markdown\n",
    "import json\n",
    "from pathlib import Path\n",
    "from pprint import pprint"
   ]
  },
  {
   "cell_type": "code",
   "execution_count": 30,
   "metadata": {},
   "outputs": [],
   "source": [
    "file = '/home/boringtao/Projects/Math_Agent/notebooks/solutions.csv'\n",
    "loader = CSVLoader(file_path=file)"
   ]
  },
  {
   "cell_type": "code",
   "execution_count": 31,
   "metadata": {},
   "outputs": [],
   "source": [
    "data = loader.load()"
   ]
  },
  {
   "cell_type": "code",
   "execution_count": 32,
   "metadata": {},
   "outputs": [
    {
     "name": "stdout",
     "output_type": "stream",
     "text": [
      "[Document(page_content='Problem: Classes A and B start from the school at the same time to go to a park that is 51 km away. Class A walks at a speed of 4 km/h, and Class B walks at a speed of 5 km/h. The school has a car that can travel at 60 km/h and can carry one class of students at a time. To ensure that both classes arrive at the park in the shortest time possible, how many kilometres do Classes A and B need to walk?\\nAnswer: Let Class A walk X km. Then the time Class A takes to walk is X/4 hours. In this time, the car travels 15X km. The car takes Class B to the point where they should start walking and then returns to meet Class A. The distance the car travels to take Class B is (15X+X)=8X. Therefore, Class B walks 51−8X km, and the time Class B takes to walk is 51−8X hours. In this time, the car travels (51−8X)×12 km. At this point, the car needs to pick up Class A and return to the park.\\nSolution: By solving the equation (51−8X)×12+(51−8X) +X=51, we get X=5.5 and 51−8X=7. Therefore, Class A walks 5.5 km, and Class B walks 7 km.', metadata={'source': '/home/boringtao/Projects/Math_Agent/notebooks/solutions.csv', 'row': 0}), Document(page_content='Problem: A company organises a social event. 50% of the sales department participates, and 60% of the IT department participates. The number of people from the IT department who participate is 6 more than the number from the sales department. Later, due to urgent work, 60% of the remaining people in the sales department and 50% of the remaining people in the IT department are selected to form a 30-person work team. How many employees does the company have?\\nAnswer: Let the sales department have X people and the IT department have Y people. Then the number of people participating from the sales department is 0.5X and from the IT department is 0.6Y. The IT department has 6 more people participating than the sales department, so 0.6Y−0.5X=6. The number of people participating from the sales department is 0.5X, so the remaining number is also 0.5X. 60% of the remaining people are selected, which is 0.3X. The number of people participating from the IT department is 0.6Y, so the remaining number is 0.4Y. 50% of the remaining people are selected, which is 0.2Y. Therefore, 0.3X+0.2Y=30.\\nSolution: By solving the equation 0.6Y−0.5X=6 and 0.3X+0.2Y=30 to find X=60 and Y=60. Therefore, the total number of employees in the company is 120.', metadata={'source': '/home/boringtao/Projects/Math_Agent/notebooks/solutions.csv', 'row': 1})]\n"
     ]
    }
   ],
   "source": [
    "print(data)"
   ]
  },
  {
   "cell_type": "code",
   "execution_count": 34,
   "metadata": {},
   "outputs": [],
   "source": [
    "index = VectorstoreIndexCreator(\n",
    "    vectorstore_cls=DocArrayInMemorySearch\n",
    ").from_loaders([loader])"
   ]
  },
  {
   "cell_type": "code",
   "execution_count": 55,
   "metadata": {},
   "outputs": [],
   "source": [
    "query =\"Please list all the problems involving reasoning.\""
   ]
  },
  {
   "cell_type": "code",
   "execution_count": 56,
   "metadata": {},
   "outputs": [],
   "source": [
    "response = index.query(query)"
   ]
  },
  {
   "cell_type": "code",
   "execution_count": 57,
   "metadata": {},
   "outputs": [
    {
     "data": {
      "text/markdown": [
       " The problems involving reasoning are:\n",
       "1. A company organises a social event. 50% of the sales department participates, and 60% of the IT department participates. The number of people from the IT department who participate is 6 more than the number from the sales department. Later, due to urgent work, 60% of the remaining people in the sales department and 50% of the remaining people in the IT department are selected to form a 30-person work team. How many employees does the company have?\n",
       "2. Classes A and B start from the school at the same time to go to a park that is 51 km away. Class A walks at a speed of 4 km/h, and Class B walks at a speed of 5 km/h. The school has a car that can travel at 60 km/h and can carry one class of students at a time. To ensure that both classes arrive at the park in the shortest time possible, how many kilometres do Classes A and B need to walk?"
      ],
      "text/plain": [
       "<IPython.core.display.Markdown object>"
      ]
     },
     "metadata": {},
     "output_type": "display_data"
    }
   ],
   "source": [
    "display(Markdown(response))"
   ]
  },
  {
   "cell_type": "code",
   "execution_count": 59,
   "metadata": {},
   "outputs": [],
   "source": [
    "embeddings = OpenAIEmbeddings()"
   ]
  },
  {
   "cell_type": "code",
   "execution_count": 61,
   "metadata": {},
   "outputs": [],
   "source": [
    "db = DocArrayInMemorySearch.from_documents(\n",
    "    data, \n",
    "    embeddings\n",
    ")"
   ]
  },
  {
   "cell_type": "code",
   "execution_count": 62,
   "metadata": {},
   "outputs": [],
   "source": [
    "docs = db.similarity_search(query)"
   ]
  },
  {
   "cell_type": "code",
   "execution_count": 63,
   "metadata": {},
   "outputs": [
    {
     "data": {
      "text/plain": [
       "2"
      ]
     },
     "execution_count": 63,
     "metadata": {},
     "output_type": "execute_result"
    }
   ],
   "source": [
    "len(docs)"
   ]
  },
  {
   "cell_type": "code",
   "execution_count": 64,
   "metadata": {},
   "outputs": [],
   "source": [
    "retriever = db.as_retriever()"
   ]
  },
  {
   "cell_type": "code",
   "execution_count": 65,
   "metadata": {},
   "outputs": [],
   "source": [
    "llm_model = \"gpt-3.5-turbo\"\n",
    "llm = ChatOpenAI(temperature = 0.0, model=llm_model)"
   ]
  },
  {
   "cell_type": "code",
   "execution_count": 66,
   "metadata": {},
   "outputs": [],
   "source": [
    "qdocs = \"\".join([docs[i].page_content for i in range(len(docs))])"
   ]
  },
  {
   "cell_type": "code",
   "execution_count": 67,
   "metadata": {},
   "outputs": [],
   "source": [
    "response = llm.call_as_llm(f\"{qdocs} Question: Please convert the problems into equations.\") "
   ]
  },
  {
   "cell_type": "code",
   "execution_count": 68,
   "metadata": {},
   "outputs": [
    {
     "data": {
      "text/markdown": [
       "Problem 1:\n",
       "Let X be the distance Class A walks.\n",
       "The time Class A takes to walk is X/4 hours.\n",
       "In this time, the car travels 15X km.\n",
       "The car takes Class B to the point where they should start walking and then returns to meet Class A.\n",
       "The distance the car travels to take Class B is (15X+X)=8X.\n",
       "Therefore, Class B walks 51−8X km, and the time Class B takes to walk is 51−8X hours.\n",
       "In this time, the car travels (51−8X)×12 km.\n",
       "At this point, the car needs to pick up Class A and return to the park.\n",
       "\n",
       "Equation: (51−8X)×12 + (51−8X) + X = 51\n",
       "\n",
       "Problem 2:\n",
       "Let X be the number of people in the sales department and Y be the number of people in the IT department.\n",
       "The number of people participating from the sales department is 0.5X.\n",
       "The number of people participating from the IT department is 0.6Y.\n",
       "The IT department has 6 more people participating than the sales department, so 0.6Y−0.5X=6.\n",
       "The remaining number of people from the sales department is 0.5X.\n",
       "60% of the remaining people are selected, which is 0.3X.\n",
       "The remaining number of people from the IT department is 0.4Y.\n",
       "50% of the remaining people are selected, which is 0.2Y.\n",
       "Therefore, 0.3X+0.2Y=30.\n",
       "\n",
       "Equations: \n",
       "0.6Y−0.5X=6\n",
       "0.3X+0.2Y=30"
      ],
      "text/plain": [
       "<IPython.core.display.Markdown object>"
      ]
     },
     "metadata": {},
     "output_type": "display_data"
    }
   ],
   "source": [
    "display(Markdown(response))"
   ]
  }
 ],
 "metadata": {
  "kernelspec": {
   "display_name": "gpt",
   "language": "python",
   "name": "python3"
  },
  "language_info": {
   "codemirror_mode": {
    "name": "ipython",
    "version": 3
   },
   "file_extension": ".py",
   "mimetype": "text/x-python",
   "name": "python",
   "nbconvert_exporter": "python",
   "pygments_lexer": "ipython3",
   "version": "3.9.17"
  },
  "orig_nbformat": 4
 },
 "nbformat": 4,
 "nbformat_minor": 2
}
