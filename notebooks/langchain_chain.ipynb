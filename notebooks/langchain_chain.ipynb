{
 "cells": [
  {
   "cell_type": "code",
   "execution_count": 9,
   "metadata": {},
   "outputs": [],
   "source": [
    "from langchain.chat_models import ChatOpenAI\n",
    "from langchain.prompts import ChatPromptTemplate\n",
    "from langchain.output_parsers import ResponseSchema\n",
    "from langchain.output_parsers import StructuredOutputParser\n",
    "from langchain.chains import ConversationChain\n",
    "from langchain.memory import ConversationBufferMemory\n",
    "from langchain.memory import ConversationBufferWindowMemory\n",
    "from langchain.memory import ConversationSummaryBufferMemory\n",
    "from langchain.chains import LLMChain\n",
    "from langchain.chains import SimpleSequentialChain\n",
    "from langchain.chains.router import MultiPromptChain\n",
    "from langchain.chains.router.llm_router import LLMRouterChain,RouterOutputParser\n",
    "from langchain.prompts import PromptTemplate"
   ]
  },
  {
   "cell_type": "code",
   "execution_count": 2,
   "metadata": {},
   "outputs": [],
   "source": [
    "llm_model = \"gpt-3.5-turbo\"\n",
    "llm = ChatOpenAI(temperature=0.0, model=llm_model)"
   ]
  },
  {
   "cell_type": "code",
   "execution_count": 3,
   "metadata": {},
   "outputs": [],
   "source": [
    "question = \"\"\"\n",
    "    Classes A and B start from the school at the same time to go to a park that is 51 km away. \\\n",
    "    Class A walks at a speed of 4 km/h, and Class B walks at a speed of 5 km/h. \\\n",
    "    The school has a car that can travel at 60 km/h and can carry one class of students at a time. \\\n",
    "    To ensure that both classes arrive at the park in the shortest time possible, how many kilometres do Classes A and B need to walk?\n",
    "\"\"\""
   ]
  },
  {
   "cell_type": "code",
   "execution_count": 4,
   "metadata": {},
   "outputs": [],
   "source": [
    "prompt_one = ChatPromptTemplate.from_template(\n",
    "    \"What is the mathmatical equation of the {question}?\"\n",
    ")\n",
    "\n",
    "chain_one = LLMChain(llm=llm, prompt=prompt_one)"
   ]
  },
  {
   "cell_type": "code",
   "execution_count": 5,
   "metadata": {},
   "outputs": [],
   "source": [
    "prompt_two = ChatPromptTemplate.from_template(\n",
    "    \"what is the solution of the :{equation}\"\n",
    ")\n",
    "\n",
    "chain_two = LLMChain(llm=llm, prompt=prompt_two)"
   ]
  },
  {
   "cell_type": "code",
   "execution_count": 6,
   "metadata": {},
   "outputs": [],
   "source": [
    "overall_chain = SimpleSequentialChain(chains=[chain_one, chain_two], verbose=True)"
   ]
  },
  {
   "cell_type": "code",
   "execution_count": 9,
   "metadata": {},
   "outputs": [
    {
     "name": "stdout",
     "output_type": "stream",
     "text": [
      "\n",
      "\n",
      "\u001b[1m> Entering new SimpleSequentialChain chain...\u001b[0m\n",
      "\u001b[36;1m\u001b[1;3mLet's assume that both classes start walking at the same time and meet at some point during their journey. Let's say they meet after x kilometers.\n",
      "\n",
      "The time taken by Class A to walk x kilometers is given by:\n",
      "Time taken by Class A = Distance / Speed = x / 4\n",
      "\n",
      "The time taken by Class B to walk (51 - x) kilometers is given by:\n",
      "Time taken by Class B = Distance / Speed = (51 - x) / 5\n",
      "\n",
      "Since the school has a car that can carry one class at a time, it will have to make two trips. The time taken by the car to travel x kilometers is given by:\n",
      "Time taken by the car = Distance / Speed = x / 60\n",
      "\n",
      "To ensure that both classes arrive at the park in the shortest time possible, the total time taken by both classes and the car should be minimized. Therefore, we need to minimize the sum of the times taken by Class A, Class B, and the car.\n",
      "\n",
      "Total time = Time taken by Class A + Time taken by Class B + Time taken by the car\n",
      "Total time = x / 4 + (51 - x) / 5 + x / 60\n",
      "\n",
      "To find the value of x that minimizes the total time, we can take the derivative of the total time with respect to x and set it equal to zero.\n",
      "\n",
      "d(Total time) / dx = 1/4 - 1/5 + 1/60 = 0\n",
      "\n",
      "Simplifying the equation, we get:\n",
      "\n",
      "5/20 - 4/20 + 1/60 = 0\n",
      "1/20 + 1/60 = 0\n",
      "3/60 + 1/60 = 0\n",
      "4/60 = 0\n",
      "1/15 = 0\n",
      "\n",
      "This equation has no solution, which means that there is no value of x that minimizes the total time. Therefore, both classes will have to walk the entire distance of 51 km to ensure that they arrive at the park in the shortest time possible.\u001b[0m\n",
      "\u001b[33;1m\u001b[1;3mThe solution is that both classes will have to walk the entire distance of 51 km to ensure that they arrive at the park in the shortest time possible.\u001b[0m\n",
      "\n",
      "\u001b[1m> Finished chain.\u001b[0m\n"
     ]
    },
    {
     "data": {
      "text/plain": [
       "'The solution is that both classes will have to walk the entire distance of 51 km to ensure that they arrive at the park in the shortest time possible.'"
      ]
     },
     "execution_count": 9,
     "metadata": {},
     "output_type": "execute_result"
    }
   ],
   "source": [
    "overall_chain.run(question)"
   ]
  },
  {
   "cell_type": "code",
   "execution_count": 7,
   "metadata": {},
   "outputs": [],
   "source": [
    "math_template = \"\"\"You are a very good mathematician. \\\n",
    "You are great at answering math questions. \\\n",
    "You are so good because you are able to break down \\\n",
    "hard problems into their component parts, \n",
    "answer the component parts, and then put them together\\\n",
    "to answer the broader question.\n",
    "\n",
    "Here is a question:\n",
    "{input}\"\"\"\n",
    "\n",
    "physics_template = \"\"\"You are a very smart physics professor. \\\n",
    "You are great at answering questions about physics in a concise\\\n",
    "and easy to understand manner. \\\n",
    "When you don't know the answer to a question you admit\\\n",
    "that you don't know.\n",
    "\n",
    "Here is a question:\n",
    "{input}\"\"\""
   ]
  },
  {
   "cell_type": "code",
   "execution_count": 8,
   "metadata": {},
   "outputs": [],
   "source": [
    "prompt_infos = [\n",
    "    {\n",
    "        \"name\": \"physics\", \n",
    "        \"description\": \"Good for answering questions about physics\", \n",
    "        \"prompt_template\": physics_template\n",
    "    },\n",
    "    {\n",
    "        \"name\": \"math\", \n",
    "        \"description\": \"Good for answering math questions\", \n",
    "        \"prompt_template\": math_template\n",
    "    }\n",
    "]"
   ]
  },
  {
   "cell_type": "code",
   "execution_count": 10,
   "metadata": {},
   "outputs": [],
   "source": [
    "destination_chains = {}\n",
    "for p_info in prompt_infos:\n",
    "    name = p_info[\"name\"]\n",
    "    prompt_template = p_info[\"prompt_template\"]\n",
    "    prompt = ChatPromptTemplate.from_template(template=prompt_template)\n",
    "    chain = LLMChain(llm=llm, prompt=prompt)\n",
    "    destination_chains[name] = chain  \n",
    "    \n",
    "destinations = [f\"{p['name']}: {p['description']}\" for p in prompt_infos]\n",
    "destinations_str = \"\\n\".join(destinations)"
   ]
  },
  {
   "cell_type": "code",
   "execution_count": 11,
   "metadata": {},
   "outputs": [],
   "source": [
    "default_prompt = ChatPromptTemplate.from_template(\"{input}\")\n",
    "default_chain = LLMChain(llm=llm, prompt=default_prompt)"
   ]
  },
  {
   "cell_type": "code",
   "execution_count": 12,
   "metadata": {},
   "outputs": [],
   "source": [
    "MULTI_PROMPT_ROUTER_TEMPLATE = \"\"\"Given a raw text input to a \\\n",
    "language model select the model prompt best suited for the input. \\\n",
    "You will be given the names of the available prompts and a \\\n",
    "description of what the prompt is best suited for. \\\n",
    "You may also revise the original input if you think that revising\\\n",
    "it will ultimately lead to a better response from the language model.\n",
    "\n",
    "<< FORMATTING >>\n",
    "Return a markdown code snippet with a JSON object formatted to look like:\n",
    "```json\n",
    "{{{{\n",
    "    \"destination\": string \\ name of the prompt to use or \"DEFAULT\"\n",
    "    \"next_inputs\": string \\ a potentially modified version of the original input\n",
    "}}}}\n",
    "```\n",
    "\n",
    "REMEMBER: \"destination\" MUST be one of the candidate prompt \\\n",
    "names specified below OR it can be \"DEFAULT\" if the input is not\\\n",
    "well suited for any of the candidate prompts.\n",
    "REMEMBER: \"next_inputs\" can just be the original input \\\n",
    "if you don't think any modifications are needed.\n",
    "\n",
    "<< CANDIDATE PROMPTS >>\n",
    "{destinations}\n",
    "\n",
    "<< INPUT >>\n",
    "{{input}}\n",
    "\n",
    "<< OUTPUT (remember to include the ```json)>>\"\"\""
   ]
  },
  {
   "cell_type": "code",
   "execution_count": 13,
   "metadata": {},
   "outputs": [],
   "source": [
    "router_template = MULTI_PROMPT_ROUTER_TEMPLATE.format(\n",
    "    destinations=destinations_str\n",
    ")\n",
    "router_prompt = PromptTemplate(\n",
    "    template=router_template,\n",
    "    input_variables=[\"input\"],\n",
    "    output_parser=RouterOutputParser(),\n",
    ")\n",
    "\n",
    "router_chain = LLMRouterChain.from_llm(llm, router_prompt)"
   ]
  },
  {
   "cell_type": "code",
   "execution_count": 14,
   "metadata": {},
   "outputs": [],
   "source": [
    "chain = MultiPromptChain(router_chain=router_chain, \n",
    "    destination_chains=destination_chains, \n",
    "    default_chain=default_chain, verbose=True\n",
    ")"
   ]
  },
  {
   "cell_type": "code",
   "execution_count": 15,
   "metadata": {},
   "outputs": [
    {
     "name": "stdout",
     "output_type": "stream",
     "text": [
      "\n",
      "\n",
      "\u001b[1m> Entering new MultiPromptChain chain...\u001b[0m\n"
     ]
    },
    {
     "name": "stderr",
     "output_type": "stream",
     "text": [
      "/home/boringtao/Conda/envs/gpt/lib/python3.9/site-packages/langchain/chains/llm.py:278: UserWarning: The predict_and_parse method is deprecated, instead pass an output parser directly to LLMChain.\n",
      "  warnings.warn(\n"
     ]
    },
    {
     "name": "stdout",
     "output_type": "stream",
     "text": [
      "math: {'input': 'Classes A and B start from the school at the same time to go to a park that is 51 km away. Class A walks at a speed of 4 km/h, and Class B walks at a speed of 5 km/h. The school has a car that can travel at 60 km/h and can carry one class of students at a time. To ensure that both classes arrive at the park in the shortest time possible, how many kilometres do Classes A and B need to walk?'}\n",
      "\u001b[1m> Finished chain.\u001b[0m\n"
     ]
    },
    {
     "data": {
      "text/plain": [
       "\"To solve this problem, we need to consider the time it takes for each class to walk and the time it takes for the car to travel.\\n\\nLet's start by calculating the time it takes for Class A to walk to the park. We can use the formula: time = distance / speed.\\n\\nFor Class A:\\nTime taken = 51 km / 4 km/h = 12.75 hours\\n\\nNow, let's calculate the time it takes for Class B to walk to the park:\\nTime taken = 51 km / 5 km/h = 10.2 hours\\n\\nSince the car can only carry one class at a time, it will have to make two trips to transport both classes. The total time taken by the car will be the sum of the time taken for each trip.\\n\\nFor the first trip:\\nTime taken = distance / speed = 51 km / 60 km/h = 0.85 hours\\n\\nFor the second trip:\\nTime taken = distance / speed = 51 km / 60 km/h = 0.85 hours\\n\\nTherefore, the total time taken by the car is 0.85 + 0.85 = 1.7 hours.\\n\\nTo ensure that both classes arrive at the park in the shortest time possible, we need to minimize the total time. Since the car is faster than both classes, it makes sense to transport the slower class (Class A) using the car.\\n\\nSo, Class A should travel by car, and Class B should walk.\\n\\nTherefore, Class A needs to travel 51 km by car, and Class B needs to walk the entire distance of 51 km.\""
      ]
     },
     "execution_count": 15,
     "metadata": {},
     "output_type": "execute_result"
    }
   ],
   "source": [
    "chain.run(question)"
   ]
  }
 ],
 "metadata": {
  "kernelspec": {
   "display_name": "gpt",
   "language": "python",
   "name": "python3"
  },
  "language_info": {
   "codemirror_mode": {
    "name": "ipython",
    "version": 3
   },
   "file_extension": ".py",
   "mimetype": "text/x-python",
   "name": "python",
   "nbconvert_exporter": "python",
   "pygments_lexer": "ipython3",
   "version": "3.9.17"
  },
  "orig_nbformat": 4
 },
 "nbformat": 4,
 "nbformat_minor": 2
}
