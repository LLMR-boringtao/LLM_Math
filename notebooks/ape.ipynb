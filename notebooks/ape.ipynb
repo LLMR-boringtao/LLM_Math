{
 "cells": [
  {
   "cell_type": "code",
   "execution_count": 20,
   "metadata": {},
   "outputs": [],
   "source": [
    "import openai"
   ]
  },
  {
   "cell_type": "code",
   "execution_count": 21,
   "metadata": {},
   "outputs": [],
   "source": [
    "llm_model = \"gpt-3.5-turbo\""
   ]
  },
  {
   "cell_type": "code",
   "execution_count": 22,
   "metadata": {},
   "outputs": [],
   "source": [
    "def get_completion(prompt, model=llm_model):\n",
    "    messages = [{\"role\": \"user\", \"content\": prompt}]\n",
    "    response = openai.ChatCompletion.create(\n",
    "        model=model,\n",
    "        messages=messages,\n",
    "        temperature=0, \n",
    "    )\n",
    "    return response.choices[0].message[\"content\"]"
   ]
  },
  {
   "cell_type": "code",
   "execution_count": 23,
   "metadata": {},
   "outputs": [],
   "source": [
    "question = \"\"\"Classes A and B start from the school at the same time to go to a park that is 51 km away. Class A walks at a speed of 4 km/h, and Class B walks at a speed of 5 km/h. The school has a car that can travel at 60 km/h and can carry one class of students at a time. To ensure that both classes arrive at the park in the shortest time possible, how many kilometres do Classes A and B need to walk?\"\"\""
   ]
  },
  {
   "cell_type": "code",
   "execution_count": 29,
   "metadata": {},
   "outputs": [],
   "source": [
    "# APE (Automatic Prompt Engineer)\n",
    "method = \"\"\"\n",
    "Take a deep breath.\n",
    "Let's work this out in a step-by-step way to be sure we have the right answer.\n",
    "\"\"\""
   ]
  },
  {
   "cell_type": "code",
   "execution_count": 25,
   "metadata": {},
   "outputs": [],
   "source": [
    "prompt = f\"\"\"Solve the maths question \\\n",
    "that is delimited by triple backticks \n",
    "into a method that is {method}.\n",
    "question: ```{question}```\n",
    "\"\"\""
   ]
  },
  {
   "cell_type": "code",
   "execution_count": 26,
   "metadata": {},
   "outputs": [],
   "source": [
    "response = get_completion(prompt)"
   ]
  },
  {
   "cell_type": "code",
   "execution_count": 28,
   "metadata": {},
   "outputs": [
    {
     "name": "stdout",
     "output_type": "stream",
     "text": [
      "To solve this problem, we need to find the distance that both classes need to walk in order to minimize the total time taken.\n",
      "\n",
      "Let's calculate the time taken by each class to walk the entire distance:\n",
      "\n",
      "Time taken by Class A = Distance / Speed = 51 km / 4 km/h = 12.75 hours\n",
      "Time taken by Class B = Distance / Speed = 51 km / 5 km/h = 10.2 hours\n",
      "\n",
      "Since the car can only carry one class at a time, we need to find a way to minimize the total time taken by both classes.\n",
      "\n",
      "Let's consider the scenario where the car takes Class A to the park first:\n",
      "\n",
      "Time taken by the car to travel to the park = Distance / Speed = 51 km / 60 km/h = 0.85 hours\n",
      "\n",
      "After dropping off Class A, the car needs to return to the school to pick up Class B. The distance traveled by the car in this round trip is:\n",
      "\n",
      "Distance traveled by the car = 2 * Distance = 2 * 51 km = 102 km\n",
      "\n",
      "Time taken by the car for the round trip = Distance / Speed = 102 km / 60 km/h = 1.7 hours\n",
      "\n",
      "Therefore, the total time taken for this scenario is:\n",
      "\n",
      "Total time = Time taken by the car to travel to the park + Time taken by the car for the round trip + Time taken by Class B to walk the remaining distance\n",
      "Total time = 0.85 hours + 1.7 hours + Time taken by Class B to walk the remaining distance\n",
      "\n",
      "To minimize the total time, we need to find the point where the time taken by Class B to walk the remaining distance is equal to the time taken by Class A to walk the entire distance.\n",
      "\n",
      "Time taken by Class B to walk the remaining distance = Time taken by Class A to walk the entire distance - Time taken by the car for the round trip\n",
      "Time taken by Class B to walk the remaining distance = 12.75 hours - 1.7 hours = 11.05 hours\n",
      "\n",
      "Now, let's calculate the distance that Class B needs to walk:\n",
      "\n",
      "Distance walked by Class B = Time taken by Class B to walk the remaining distance * Speed\n",
      "Distance walked by Class B = 11.05 hours * 5 km/h = 55.25 km\n",
      "\n",
      "Therefore, Classes A and B need to walk a total of 55.25 km.\n"
     ]
    }
   ],
   "source": [
    "print(response)"
   ]
  },
  {
   "cell_type": "code",
   "execution_count": null,
   "metadata": {},
   "outputs": [],
   "source": []
  }
 ],
 "metadata": {
  "kernelspec": {
   "display_name": "gpt",
   "language": "python",
   "name": "python3"
  },
  "language_info": {
   "codemirror_mode": {
    "name": "ipython",
    "version": 3
   },
   "file_extension": ".py",
   "mimetype": "text/x-python",
   "name": "python",
   "nbconvert_exporter": "python",
   "pygments_lexer": "ipython3",
   "version": "3.9.17"
  },
  "orig_nbformat": 4
 },
 "nbformat": 4,
 "nbformat_minor": 2
}
